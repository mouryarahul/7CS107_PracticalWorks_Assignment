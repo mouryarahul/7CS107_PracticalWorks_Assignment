{
 "cells": [
  {
   "cell_type": "markdown",
   "id": "ca545ed9",
   "metadata": {},
   "source": [
    "[![Open In Colab](https://colab.research.google.com/assets/colab-badge.svg)](https://colab.research.google.com/github/mouryarahul/7CS107_PracticalWorks_Assignment/blob/master/Week2_Assignment.ipynb)"
   ]
  },
  {
   "cell_type": "markdown",
   "id": "6c9c92fa",
   "metadata": {},
   "source": [
    "\n",
    "# Week 2 Assignment — Linear Algebra for AI (Programming)\n",
    "\n",
    "**Module:** Advanced Artificial Intelligence & Machine Learning (MSc)  \n",
    "**Topic:** Mathematical Foundations for AI — Linear Algebra Review  \n",
    "**Instructions:**  \n",
    "- Complete each problem in order. Do **not** use high-level NumPy linear algebra helpers unless the prompt\n",
    "  explicitly allows it for verification.  \n",
    "- For each function, write minimal tests and print results as indicated.  \n",
    "- Keep your code clean and well-documented.  \n",
    "- Marks: **10 or 20 per problem** (correctness + clarity + simple tests).  \n"
   ]
  },
  {
   "cell_type": "code",
   "execution_count": 2,
   "id": "790b85bf",
   "metadata": {},
   "outputs": [],
   "source": [
    "\n",
    "# You may use NumPy for arrays and basic operations; avoid calling high-level linalg unless allowed.\n",
    "import numpy as np\n",
    "\n",
    "np.set_printoptions(precision=4, suppress=True)\n",
    "rng = np.random.default_rng(42)\n"
   ]
  },
  {
   "cell_type": "markdown",
   "id": "34316b83",
   "metadata": {},
   "source": [
    "\n",
    "## Problem 1 (10 Marks): Matrix Multiplication (loops only)\n",
    "\n",
    "Implement `matrix_multiply(mat1, mat2)` using **basic operations and loops** (no `np.dot`/`@`/`np.matmul`).  \n",
    "Verify by comparing with `np.matmul` on two small random matrices (e.g., 3×2 and 2×3).\n"
   ]
  },
  {
   "cell_type": "code",
   "execution_count": null,
   "id": "3275c61c",
   "metadata": {},
   "outputs": [
    {
     "name": "stdout",
     "output_type": "stream",
     "text": [
      "np.matmul:\n",
      " [[ 0.9261 -1.0109 -0.814 ]\n",
      " [-0.7064  0.5898  0.719 ]\n",
      " [ 0.8614 -0.5281 -0.98  ]]\n",
      "matrix_multiply:\n",
      " [[ 0.9261 -1.0109 -0.814 ]\n",
      " [-0.7064  0.5898  0.719 ]\n",
      " [ 0.8614 -0.5281 -0.98  ]]\n",
      "max abs diff: 0.0\n"
     ]
    }
   ],
   "source": [
    "\n",
    "def matrix_multiply(mat1, mat2):\n",
    "    \"\"\"\n",
    "    Multiply two 2D numpy arrays using explicit loops.\n",
    "    Inputs: mat1 (m x k), mat2 (k x n)\n",
    "    Output: result (m x n)\n",
    "    \"\"\"\n",
    "    A = np.asarray(mat1)\n",
    "    B = np.asarray(mat2)\n",
    "    m, k1 = A.shape\n",
    "    k2, n = B.shape\n",
    "    assert k1 == k2, \"Inner dimensions must match for multiplication.\"\n",
    "    # Your code goes here\n",
    "    return result\n",
    "\n",
    "# --- Test ---\n",
    "mat1 = rng.normal(size=(3, 2))\n",
    "mat2 = rng.normal(size=(2, 3))\n",
    "res_ref = np.matmul(mat1, mat2)\n",
    "res_my  = matrix_multiply(mat1, mat2)\n",
    "print(\"np.matmul:\\n\", res_ref)\n",
    "print(\"matrix_multiply:\\n\", res_my)\n",
    "print(\"max abs diff:\", np.max(np.abs(res_ref - res_my)))\n"
   ]
  },
  {
   "cell_type": "markdown",
   "id": "0bb1c1ba",
   "metadata": {},
   "source": [
    "\n",
    "## Problem 2 (20 Marks): Dot Product & Angle Between Vectors\n",
    "\n",
    "Write two functions without using `np.dot`:\n",
    "- `dot(u, v)` returning the scalar dot product,\n",
    "- `angle(u, v)` returning the angle (in radians) between `u` and `v`.\n",
    "\n",
    "**Verify:** Compare `dot(u, v)` to `np.dot(u, v)` and check that `angle(u, v)` is ~`np.arccos(np.dot(u,v)/(||u||·||v||))`.\n"
   ]
  },
  {
   "cell_type": "code",
   "execution_count": null,
   "id": "5e8f63ee",
   "metadata": {},
   "outputs": [
    {
     "name": "stdout",
     "output_type": "stream",
     "text": [
      "dot: 0.8113263933498043  vs np.dot: 0.8113263933498043\n",
      "angle (rad): 1.2066443072379185\n"
     ]
    }
   ],
   "source": [
    "\n",
    "def dot(u, v):\n",
    "    u = np.asarray(u).ravel()\n",
    "    v = np.asarray(v).ravel()\n",
    "    assert u.shape == v.shape, \"Vectors must have same length.\"\n",
    "    # Your code goes here\n",
    "    return result\n",
    "\n",
    "def angle(u, v):\n",
    "    u = np.asarray(u).ravel()\n",
    "    v = np.asarray(v).ravel()\n",
    "    assert u.shape == v.shape, \"Vectors must have same length.\"\n",
    "    # Your code goes here\n",
    "    return result\n",
    "\n",
    "# --- Test ---\n",
    "u = rng.normal(size=5)\n",
    "v = rng.normal(size=5)\n",
    "print(\"dot:\", dot(u, v), \" vs np.dot:\", np.dot(u, v))\n",
    "print(\"angle (rad):\", angle(u, v))\n"
   ]
  },
  {
   "cell_type": "markdown",
   "id": "201aec03",
   "metadata": {},
   "source": [
    "\n",
    "## Problem 3 (20 Marks): Vector & Matrix Norms\n",
    "\n",
    "Implement without `np.linalg.norm`:\n",
    "- `l1_norm(x)`, `l2_norm(x)`, `linf_norm(x)` for vectors,\n",
    "- `frobenius_norm(A)` for matrices.\n",
    "\n",
    "**Verify:** Compare results to `np.linalg.norm` for random vectors/matrices.\n"
   ]
  },
  {
   "cell_type": "code",
   "execution_count": null,
   "id": "7afcc4bb",
   "metadata": {},
   "outputs": [
    {
     "name": "stdout",
     "output_type": "stream",
     "text": [
      "L1: 3.468018054907585  vs  3.468018054907585\n",
      "L2: 1.5534478066842252  vs  1.5534478066842254\n",
      "Linf: 1.2225413386740303  vs  1.2225413386740303\n",
      "Fro: 3.144896825729108  vs  3.144896825729108\n"
     ]
    }
   ],
   "source": [
    "\n",
    "def l1_norm(x):\n",
    "    x = np.asarray(x).ravel()\n",
    "    # Your code goes here\n",
    "    return result\n",
    "\n",
    "def l2_norm(x):\n",
    "    x = np.asarray(x).ravel()\n",
    "    # Your code goes here\n",
    "    return result\n",
    "\n",
    "def linf_norm(x):\n",
    "    x = np.asarray(x).ravel()\n",
    "    # Your code goes here\n",
    "    return result\n",
    "\n",
    "def frobenius_norm(A):\n",
    "    A = np.asarray(A)\n",
    "    # Your code goes here\n",
    "    return result\n",
    "\n",
    "# --- Test ---\n",
    "x = rng.normal(size=7)\n",
    "A = rng.normal(size=(4, 3))\n",
    "print(\"L1:\", l1_norm(x), \" vs \", np.linalg.norm(x, 1))\n",
    "print(\"L2:\", l2_norm(x), \" vs \", np.linalg.norm(x, 2))\n",
    "print(\"Linf:\", linf_norm(x), \" vs \", np.linalg.norm(x, np.inf))\n",
    "print(\"Fro:\", frobenius_norm(A), \" vs \", np.linalg.norm(A, \"fro\"))\n"
   ]
  },
  {
   "cell_type": "markdown",
   "id": "2305b10d",
   "metadata": {},
   "source": [
    "\n",
    "## Problem 4 (10 Marks): Projection Onto a Vector (and Decomposition)\n",
    "\n",
    "Implement `proj(u, v)` = projection of vector `u` onto `v`. Also return the decomposition `u = u_parallel + u_perp`  \n",
    "where `u_parallel = proj(u, v)` and `u_perp = u - u_parallel`.\n",
    "\n",
    "**Verify:** Check `u_parallel` is parallel to `v` and `u_perp` is orthogonal to `v` (their dot product is ~0).\n"
   ]
  },
  {
   "cell_type": "code",
   "execution_count": null,
   "id": "6074fd68",
   "metadata": {},
   "outputs": [
    {
     "name": "stdout",
     "output_type": "stream",
     "text": [
      "dot(v, u_perp) ~ 0: 3.122502256758253e-17\n"
     ]
    }
   ],
   "source": [
    "\n",
    "def proj(u, v):\n",
    "    u = np.asarray(u).ravel()\n",
    "    v = np.asarray(v).ravel()\n",
    "    # Your code goes here\n",
    "    return result\n",
    "\n",
    "# --- Test ---\n",
    "u = rng.normal(size=5)\n",
    "v = rng.normal(size=5)\n",
    "u_par = proj(u, v)\n",
    "u_perp = u - u_par\n",
    "print(\"dot(v, u_perp) ~ 0:\", dot(v, u_perp))\n"
   ]
  },
  {
   "cell_type": "markdown",
   "id": "f38e76e1",
   "metadata": {},
   "source": [
    "\n",
    "## Problem 5 (20 Marks): Determinant (2×2 and 3×3) & Volume Intuition\n",
    "\n",
    "Implement `det2(A)` and `det3(A)` using closed-form expressions.  \n",
    "**Verify:** Compare to `np.linalg.det` (rounded) on random integer matrices.\n"
   ]
  },
  {
   "cell_type": "code",
   "execution_count": 5,
   "id": "e42f45da",
   "metadata": {},
   "outputs": [
    {
     "name": "stdout",
     "output_type": "stream",
     "text": [
      "det2 vs np: 0.0  vs  0\n",
      "det3 vs np: -3.0  vs  -3\n"
     ]
    }
   ],
   "source": [
    "\n",
    "def det2(A):\n",
    "    A = np.asarray(A, dtype=float)\n",
    "    assert A.shape == (2, 2)\n",
    "    return A[0,0]*A[1,1] - A[0,1]*A[1,0]\n",
    "\n",
    "def det3(A):\n",
    "    A = np.asarray(A, dtype=float)\n",
    "    assert A.shape == (3, 3)\n",
    "    a,b,c = A[0]\n",
    "    d,e,f = A[1]\n",
    "    g,h,i = A[2]\n",
    "    return a*(e*i - f*h) - b*(d*i - f*g) + c*(d*h - e*g)\n",
    "\n",
    "# --- Test ---\n",
    "A2 = rng.integers(-5, 6, size=(2,2))\n",
    "A3 = rng.integers(-3, 4, size=(3,3))\n",
    "print(\"det2 vs np:\", det2(A2), \" vs \", round(np.linalg.det(A2)))\n",
    "print(\"det3 vs np:\", det3(A3), \" vs \", round(np.linalg.det(A3)))\n"
   ]
  },
  {
   "cell_type": "markdown",
   "id": "3a3baeea",
   "metadata": {},
   "source": [
    "\n",
    "## Problem 6 (20 Marks): Least Squares via Pseudoinverse (SVD)\n",
    "\n",
    "Implement `pinv(A)` using `np.linalg.svd`. Use it to solve linear regression `x* = pinv(A) @ b` and report residual norm `||Ax* - b||_2`.\n",
    "\n",
    "**Verify:** Compare with `np.linalg.lstsq(A, b, rcond=None)`.\n"
   ]
  },
  {
   "cell_type": "code",
   "execution_count": 10,
   "id": "1b686244",
   "metadata": {},
   "outputs": [
    {
     "name": "stdout",
     "output_type": "stream",
     "text": [
      "Residual (pinv): 0.011547416124392484\n",
      "Residual (lstsq): 0.011547416124392343\n"
     ]
    }
   ],
   "source": [
    "\n",
    "def pinv(A, tol=1e-12):\n",
    "    A = np.array(A, dtype=float)\n",
    "    U, S, VT = np.linalg.svd(A, full_matrices=False)\n",
    "    S_inv = np.array([1/s if s > tol else 0.0 for s in S])\n",
    "    return (VT.T * S_inv) @ U.T\n",
    "\n",
    "# --- Test ---\n",
    "m, n = 8, 5\n",
    "A = rng.normal(size=(m, n))\n",
    "x_true = rng.normal(size=n)\n",
    "b = A @ x_true + 0.01 * rng.normal(size=m)  # small noise\n",
    "x_pinv = pinv(A) @ b\n",
    "x_ls, *_ = np.linalg.lstsq(A, b, rcond=None)\n",
    "print(\"Residual (pinv):\", np.linalg.norm(A@x_pinv - b))\n",
    "print(\"Residual (lstsq):\", np.linalg.norm(A@x_ls - b))\n"
   ]
  }
 ],
 "metadata": {
  "kernelspec": {
   "display_name": "base",
   "language": "python",
   "name": "python3"
  },
  "language_info": {
   "codemirror_mode": {
    "name": "ipython",
    "version": 3
   },
   "file_extension": ".py",
   "mimetype": "text/x-python",
   "name": "python",
   "nbconvert_exporter": "python",
   "pygments_lexer": "ipython3",
   "version": "3.13.2"
  }
 },
 "nbformat": 4,
 "nbformat_minor": 5
}
