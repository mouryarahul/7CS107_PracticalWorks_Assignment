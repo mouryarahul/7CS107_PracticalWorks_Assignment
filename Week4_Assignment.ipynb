{
 "cells": [
  {
   "cell_type": "markdown",
   "id": "de2859e4",
   "metadata": {},
   "source": [
    "[![Open In Colab](https://colab.research.google.com/assets/colab-badge.svg)](https://colab.research.google.com/github/mouryarahul/7CS107_PracticalWorks_Assignment/blob/master/Week4_Assignment.ipynb)"
   ]
  },
  {
   "cell_type": "markdown",
   "metadata": {},
   "source": [
    "# 7CS107 – Week 4 Programming Assignment (100 marks)\n",
    "\n",
    "**Topic:** ML Fundamentals – Linear Models, ERM, MLE/MAP, Regularization, Polynomial Features, Weighted Least Squares.\n",
    "\n",
    "Allowed: numpy, scipy, sklearn. Edit only `# TODO` blocks. Run tests after each question."
   ]
  },
  {
   "cell_type": "code",
   "execution_count": 1,
   "metadata": {},
   "outputs": [
    {
     "name": "stdout",
     "output_type": "stream",
     "text": [
      "Imports OK. NumPy: 2.1.3\n"
     ]
    }
   ],
   "source": [
    "import numpy as np\n",
    "from numpy.linalg import inv, lstsq\n",
    "from scipy import stats\n",
    "from sklearn.linear_model import LinearRegression, Ridge\n",
    "from sklearn.preprocessing import PolynomialFeatures\n",
    "from sklearn.metrics import mean_squared_error\n",
    "from sklearn.model_selection import train_test_split\n",
    "\n",
    "np.random.seed(7)\n",
    "print('Imports OK. NumPy:', np.__version__)\n"
   ]
  },
  {
   "cell_type": "markdown",
   "metadata": {},
   "source": [
    "## Synthetic dataset\n",
    "One synthetic regression dataset with an intercept included."
   ]
  },
  {
   "cell_type": "code",
   "execution_count": 2,
   "metadata": {},
   "outputs": [
    {
     "name": "stdout",
     "output_type": "stream",
     "text": [
      "Shapes: (300, 6) (300,)\n"
     ]
    }
   ],
   "source": [
    "n, d = 300, 5\n",
    "X_raw = np.random.randn(n, d)\n",
    "true_w = np.array([2.0, -1.5, 0.0, 3.0, 0.5, -2.0])\n",
    "X = np.c_[np.ones((n,1)), X_raw]\n",
    "sigma = 0.8\n",
    "noise = np.random.randn(n) * sigma\n",
    "y = X @ true_w + noise\n",
    "print('Shapes:', X.shape, y.shape)\n"
   ]
  },
  {
   "cell_type": "markdown",
   "metadata": {},
   "source": [
    "---\n",
    "### Q1 (10 marks): Empirical Risk via Train/Test Split\n",
    "Implement `erm_split_mse(X, y, test_size, random_state)` using `train_test_split`, `LinearRegression`, and `mean_squared_error` functions available in sk-learn package. Return `(mse_train, mse_test)`."
   ]
  },
  {
   "cell_type": "code",
   "execution_count": null,
   "metadata": {},
   "outputs": [],
   "source": [
    "def erm_split_mse(X, y, test_size=0.25, random_state=42):\n",
    "    \"\"\"Return (mse_train, mse_test) using LinearRegression on a train/test split.\n",
    "    \"\"\"\n",
    "    # TODO: split, fit, predict, compute MSEs\n",
    "    raise NotImplementedError()\n"
   ]
  },
  {
   "cell_type": "code",
   "execution_count": null,
   "metadata": {},
   "outputs": [],
   "source": [
    "# Tests for Q1\n",
    "try:\n",
    "    mse_tr, mse_te = erm_split_mse(X, y, test_size=0.2, random_state=0)\n",
    "except NotImplementedError:\n",
    "    print('Q1 not implemented yet.')\n",
    "else:\n",
    "    assert isinstance(mse_tr, float) and isinstance(mse_te, float)\n",
    "    assert 0 <= mse_tr < 10 and 0 <= mse_te < 15\n",
    "    print('Q1 passed.')\n"
   ]
  },
  {
   "cell_type": "markdown",
   "metadata": {},
   "source": [
    "---\n",
    "### Q2 (15 marks): Model Capacity with Polynomial Features\n",
    "Implement `poly_model_selection(X_raw, y, degrees)` with `PolynomialFeatures(include_bias=True)`, 80/20 split (`random_state=0`), and `LinearRegression`. Return `(train_mse_list, test_mse_list, best_degree)` minimizing test MSE."
   ]
  },
  {
   "cell_type": "code",
   "execution_count": null,
   "metadata": {},
   "outputs": [],
   "source": [
    "def poly_model_selection(X_raw, y, degrees=(1,2,3,4,5)):\n",
    "    \"\"\"Return (train_mse_list, test_mse_list, best_degree).\n",
    "    \"\"\"\n",
    "    # TODO\n",
    "    raise NotImplementedError()\n"
   ]
  },
  {
   "cell_type": "code",
   "execution_count": null,
   "metadata": {},
   "outputs": [],
   "source": [
    "# Tests for Q2\n",
    "try:\n",
    "    tr_mse, te_mse, best_deg = poly_model_selection(X_raw, y, degrees=(1,2,3,4,5))\n",
    "except NotImplementedError:\n",
    "    print('Q2 not implemented yet.')\n",
    "else:\n",
    "    tr_mse = np.asarray(tr_mse); te_mse = np.asarray(te_mse)\n",
    "    assert tr_mse.shape == (5,) and te_mse.shape == (5,)\n",
    "    assert all(m > 0 for m in tr_mse) and all(m > 0 for m in te_mse)\n",
    "    assert best_deg in (1,2,3,4,5)\n",
    "    print('Q2 passed. Best degree:', best_deg)\n"
   ]
  },
  {
   "cell_type": "markdown",
   "metadata": {},
   "source": [
    "---\n",
    "### Q3 (15 marks): Closed-form Ordinary Least-Square (Normal Equations)\n",
    "Implement `ols_fit(X, y)` using `np.linalg.lstsq` (or equivalent). Return `w` of shape `(n_features,)`."
   ]
  },
  {
   "cell_type": "code",
   "execution_count": null,
   "metadata": {},
   "outputs": [],
   "source": [
    "def ols_fit(X, y):\n",
    "    \"\"\"Return OLS solution w (shape: (n_features,)).\n",
    "    \"\"\"\n",
    "    # TODO\n",
    "    raise NotImplementedError()\n"
   ]
  },
  {
   "cell_type": "code",
   "execution_count": null,
   "metadata": {},
   "outputs": [],
   "source": [
    "# Tests for Q3\n",
    "try:\n",
    "    w_hat = ols_fit(X, y)\n",
    "except NotImplementedError:\n",
    "    print('Q3 not implemented yet.')\n",
    "else:\n",
    "    assert w_hat.shape == (X.shape[1],)\n",
    "    lr = LinearRegression(fit_intercept=False).fit(X, y)\n",
    "    w_sk = lr.coef_\n",
    "    assert np.allclose(w_hat, w_sk, atol=1e-6)\n",
    "    print('Q3 passed.')\n"
   ]
  },
  {
   "cell_type": "markdown",
   "metadata": {},
   "source": [
    "---\n",
    "### Q4 (15 marks): Closed-form Ridge Regression\n",
    "Implement `ridge_fit(X, y, lam)` returning $(X^T X + \\lambda I)^{-1} X^T y$ without penalizing the intercept (first coefficient)."
   ]
  },
  {
   "cell_type": "code",
   "execution_count": null,
   "metadata": {},
   "outputs": [],
   "source": [
    "def ridge_fit(X, y, lam=1.0):\n",
    "    \"\"\"Return ridge solution with no penalty on intercept (index 0).\n",
    "    \"\"\"\n",
    "    # TODO\n",
    "    raise NotImplementedError()\n"
   ]
  },
  {
   "cell_type": "code",
   "execution_count": null,
   "metadata": {},
   "outputs": [],
   "source": [
    "# Tests for Q4\n",
    "try:\n",
    "    w_ridge = ridge_fit(X, y, lam=1.25)\n",
    "except NotImplementedError:\n",
    "    print('Q4 not implemented yet.')\n",
    "else:\n",
    "    d = X.shape[1]\n",
    "    I = np.eye(d); I[0,0] = 0.0\n",
    "    w_ref = np.linalg.solve(X.T @ X + 1.25 * I, X.T @ y)\n",
    "    assert np.allclose(w_ridge, w_ref, atol=1e-6)\n",
    "    print('Q4 passed.')\n"
   ]
  },
  {
   "cell_type": "markdown",
   "metadata": {},
   "source": [
    "---\n",
    "### Q5 (15 marks): MLE for Noise Variance and Negative Log-Likelihood\n",
    "Implement `mle_sigma2_and_nll(X, y, w)` returning `(sigma2_mle, nll)` under Gaussian likelihood."
   ]
  },
  {
   "cell_type": "code",
   "execution_count": null,
   "metadata": {},
   "outputs": [],
   "source": [
    "def mle_sigma2_and_nll(X, y, w):\n",
    "    \"\"\"Return (sigma2_mle, nll) under Gaussian likelihood.\n",
    "    \"\"\"\n",
    "    # TODO\n",
    "    raise NotImplementedError()\n"
   ]
  },
  {
   "cell_type": "code",
   "execution_count": null,
   "metadata": {},
   "outputs": [],
   "source": [
    "# Tests for Q5\n",
    "try:\n",
    "    w_hat = ols_fit(X, y)\n",
    "    s2, nll = mle_sigma2_and_nll(X, y, w_hat)\n",
    "except NotImplementedError:\n",
    "    print('Q5 not implemented yet.')\n",
    "else:\n",
    "    assert s2 > 0 and np.isfinite(s2)\n",
    "    resid = y - X @ w_hat\n",
    "    s2_ref = np.mean(resid**2)\n",
    "    assert np.allclose(s2, s2_ref, rtol=1e-6)\n",
    "    assert np.isfinite(nll)\n",
    "    print('Q5 passed.')\n"
   ]
  },
  {
   "cell_type": "markdown",
   "metadata": {},
   "source": [
    "---\n",
    "### Q6 (15 marks): MAP with Gaussian Prior (Equivalence to Ridge)\n",
    "Implement `map_estimate(X, y, sigma2, tau2)` with no penalty on the intercept; check equivalence to ridge with `lambda = sigma2/tau2`."
   ]
  },
  {
   "cell_type": "code",
   "execution_count": null,
   "metadata": {},
   "outputs": [],
   "source": [
    "def map_estimate(X, y, sigma2, tau2):\n",
    "    \"\"\"Return MAP estimate under Gaussian prior with variance tau2 and noise sigma2.\n",
    "    \"\"\"\n",
    "    # TODO\n",
    "    raise NotImplementedError()\n"
   ]
  },
  {
   "cell_type": "code",
   "execution_count": null,
   "metadata": {},
   "outputs": [],
   "source": [
    "# Tests for Q6\n",
    "try:\n",
    "    lam = 1.25\n",
    "    sigma2 = 0.5\n",
    "    tau2 = sigma2 / lam\n",
    "    w_map = map_estimate(X, y, sigma2=sigma2, tau2=tau2)\n",
    "except NotImplementedError:\n",
    "    print('Q6 not implemented yet.')\n",
    "else:\n",
    "    d = X.shape[1]\n",
    "    I = np.eye(d); I[0,0] = 0.0\n",
    "    w_ref = np.linalg.solve(X.T @ X + lam * I, X.T @ y)\n",
    "    assert np.allclose(w_map, w_ref, atol=1e-6)\n",
    "    print('Q6 passed.')\n"
   ]
  },
  {
   "cell_type": "markdown",
   "metadata": {},
   "source": [
    "---\n",
    "### Q7 (15 marks): Weighted Least Squares (Heteroscedastic Noise)\n",
    "Implement `wls_fit(X, y, weights)` solving $(X^T W X)^{-1} X^T W y$ with positive weights. Verify with `LinearRegression(..., sample_weight=weights)`."
   ]
  },
  {
   "cell_type": "code",
   "execution_count": null,
   "metadata": {},
   "outputs": [],
   "source": [
    "def wls_fit(X, y, weights):\n",
    "    \"\"\"Return Weighted Least Squares solution using (X^T W X)^{-1} X^T W y.\n",
    "    \"\"\"\n",
    "    # TODO\n",
    "    raise NotImplementedError()\n"
   ]
  },
  {
   "cell_type": "code",
   "execution_count": null,
   "metadata": {},
   "outputs": [],
   "source": [
    "# Tests for Q7\n",
    "try:\n",
    "    rng = np.random.default_rng(123)\n",
    "    n2, d2 = 200, 5\n",
    "    Xh_raw = rng.normal(size=(n2, d2))\n",
    "    Xh = np.c_[np.ones((n2,1)), Xh_raw]\n",
    "    sigma_i = np.linspace(0.3, 1.5, n2)\n",
    "    eps = rng.normal(scale=sigma_i)\n",
    "    yh = Xh @ true_w + eps\n",
    "    weights = 1.0/(sigma_i**2)\n",
    "    w_wls = wls_fit(Xh, yh, weights)\n",
    "except NotImplementedError:\n",
    "    print('Q7 not implemented yet.')\n",
    "else:\n",
    "    lr = LinearRegression(fit_intercept=False)\n",
    "    lr.fit(Xh, yh, sample_weight=weights)\n",
    "    w_sk = lr.coef_\n",
    "    assert np.allclose(w_wls, w_sk, atol=1e-6)\n",
    "    print('Q7 passed.')\n"
   ]
  },
  {
   "cell_type": "markdown",
   "metadata": {},
   "source": [
    "---\n",
    "## Auto-scoring (local)\n",
    "Run to compute a provisional score out of 100."
   ]
  },
  {
   "cell_type": "code",
   "execution_count": null,
   "metadata": {},
   "outputs": [],
   "source": [
    "score = 0\n",
    "\n",
    "# Q1\n",
    "try:\n",
    "    mse_tr, mse_te = erm_split_mse(X, y, test_size=0.2, random_state=0)\n",
    "    assert isinstance(mse_tr, float) and isinstance(mse_te, float)\n",
    "    assert 0 <= mse_tr < 10 and 0 <= mse_te < 15\n",
    "    score += 10\n",
    "except Exception as e:\n",
    "    print('Q1 failed:', e)\n",
    "\n",
    "# Q2\n",
    "try:\n",
    "    tr_mse, te_mse, best_deg = poly_model_selection(X_raw, y, degrees=(1,2,3,4,5))\n",
    "    tr_mse = np.asarray(tr_mse); te_mse = np.asarray(te_mse)\n",
    "    assert tr_mse.shape == (5,) and te_mse.shape == (5,)\n",
    "    assert all(m > 0 for m in tr_mse) and all(m > 0 for m in te_mse)\n",
    "    assert best_deg in (1,2,3,4,5)\n",
    "    score += 15\n",
    "except Exception as e:\n",
    "    print('Q2 failed:', e)\n",
    "\n",
    "# Q3\n",
    "try:\n",
    "    w_hat = ols_fit(X, y)\n",
    "    lr = LinearRegression(fit_intercept=False).fit(X, y)\n",
    "    w_sk = lr.coef_\n",
    "    assert np.allclose(w_hat, w_sk, atol=1e-6)\n",
    "    score += 15\n",
    "except Exception as e:\n",
    "    print('Q3 failed:', e)\n",
    "\n",
    "# Q4\n",
    "try:\n",
    "    lam = 1.25\n",
    "    I = np.eye(X.shape[1]); I[0,0] = 0.0\n",
    "    w_ref = np.linalg.solve(X.T @ X + lam * I, X.T @ y)\n",
    "    w_ridge = ridge_fit(X, y, lam=lam)\n",
    "    assert np.allclose(w_ridge, w_ref, atol=1e-6)\n",
    "    score += 15\n",
    "except Exception as e:\n",
    "    print('Q4 failed:', e)\n",
    "\n",
    "# Q5\n",
    "try:\n",
    "    w_hat = ols_fit(X, y)\n",
    "    s2, nll = mle_sigma2_and_nll(X, y, w_hat)\n",
    "    resid = y - X @ w_hat\n",
    "    s2_ref = np.mean(resid**2)\n",
    "    assert np.allclose(s2, s2_ref, rtol=1e-6)\n",
    "    assert np.isfinite(nll)\n",
    "    score += 15\n",
    "except Exception as e:\n",
    "    print('Q5 failed:', e)\n",
    "\n",
    "# Q6\n",
    "try:\n",
    "    lam = 1.25\n",
    "    sigma2 = 0.5\n",
    "    tau2 = sigma2 / lam\n",
    "    w_map = map_estimate(X, y, sigma2=sigma2, tau2=tau2)\n",
    "    I = np.eye(X.shape[1]); I[0,0] = 0.0\n",
    "    w_ref = np.linalg.solve(X.T @ X + lam * I, X.T @ y)\n",
    "    assert np.allclose(w_map, w_ref, atol=1e-6)\n",
    "    score += 15\n",
    "except Exception as e:\n",
    "    print('Q6 failed:', e)\n",
    "\n",
    "# Q7\n",
    "try:\n",
    "    rng = np.random.default_rng(123)\n",
    "    n2, d2 = 200, X.shape[1]-1\n",
    "    Xh_raw = rng.normal(size=(n2, d2))\n",
    "    Xh = np.c_[np.ones((n2,1)), Xh_raw]\n",
    "    sigma_i = np.linspace(0.3, 1.5, n2)\n",
    "    eps = rng.normal(scale=sigma_i)\n",
    "    yh = Xh @ true_w + eps\n",
    "    weights = 1.0/(sigma_i**2)\n",
    "    w_wls = wls_fit(Xh, yh, weights)\n",
    "    lr = LinearRegression(fit_intercept=False)\n",
    "    lr.fit(Xh, yh, sample_weight=weights)\n",
    "    w_sk = lr.coef_\n",
    "    assert np.allclose(w_wls, w_sk, atol=1e-6)\n",
    "    score += 15\n",
    "except Exception as e:\n",
    "    print('Q7 failed:', e)\n",
    "\n",
    "print('\n",
    "Provisional score:', score, '/ 100')\n"
   ]
  }
 ],
 "metadata": {
  "kernelspec": {
   "display_name": "base",
   "language": "python",
   "name": "python3"
  },
  "language_info": {
   "codemirror_mode": {
    "name": "ipython",
    "version": 3
   },
   "file_extension": ".py",
   "mimetype": "text/x-python",
   "name": "python",
   "nbconvert_exporter": "python",
   "pygments_lexer": "ipython3",
   "version": "3.13.5"
  }
 },
 "nbformat": 4,
 "nbformat_minor": 5
}
